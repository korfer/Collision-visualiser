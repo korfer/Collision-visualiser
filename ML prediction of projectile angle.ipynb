{
 "cells": [
  {
   "cell_type": "code",
   "execution_count": 2,
   "id": "742d9df6-2bf9-4c36-9e15-f7682c3ac112",
   "metadata": {},
   "outputs": [],
   "source": [
    "# !pip install pandas\n",
    "import pandas as pd\n",
    "import numpy as np\n",
    "from experiment import ExperimentRunner, Param\n",
    "import matplotlib.pyplot as plt\n",
    "import itertools\n",
    "import random\n",
    "from collections import namedtuple\n",
    "\n",
    "%load_ext autoreload\n",
    "%autoreload 2"
   ]
  },
  {
   "cell_type": "code",
   "execution_count": 3,
   "id": "6dea6095-8c1c-4cb4-94dd-a0e3977797f7",
   "metadata": {},
   "outputs": [
    {
     "data": {
      "text/plain": [
       "5.5281099947706664"
      ]
     },
     "execution_count": 3,
     "metadata": {},
     "output_type": "execute_result"
    }
   ],
   "source": [
    "thief_spawn_y=(0.0, 10.0)\n",
    "Param(thief_spawn_y).value"
   ]
  },
  {
   "cell_type": "code",
   "execution_count": 4,
   "id": "151b8946-ee90-48ab-852b-17465375e70b",
   "metadata": {},
   "outputs": [],
   "source": [
    "er = ExperimentRunner(time_precision=0.1, n_digits=2,\n",
    "     thief_spawn_x=0.0, thief_spawn_y=(0.0, 9.0), thief_speed=1.0,\n",
    "     projectile_spawn_x=9.0, projectile_spawn_y=(5.0, 5.0),\n",
    "     projectile_speed=3.0, projectile_angle_diapason_dgr=(0.0, 360.0)\n",
    ")"
   ]
  },
  {
   "cell_type": "code",
   "execution_count": 5,
   "id": "f711009b-a6d9-4b86-9eb9-d790b2fb8726",
   "metadata": {},
   "outputs": [],
   "source": [
    "er.run_experiments(times=100000) # Guaranteee we have at least 2 HIT samples"
   ]
  },
  {
   "cell_type": "code",
   "execution_count": 6,
   "id": "a56f5380-4a1a-472d-8fe9-f99b14c03101",
   "metadata": {},
   "outputs": [
    {
     "data": {
      "text/plain": [
       "10"
      ]
     },
     "execution_count": 6,
     "metadata": {},
     "output_type": "execute_result"
    }
   ],
   "source": [
    "len(er.data_samples[0])"
   ]
  },
  {
   "cell_type": "code",
   "execution_count": 7,
   "id": "98dedc9f-1998-4f43-9f81-357a3d899c82",
   "metadata": {},
   "outputs": [
    {
     "name": "stdout",
     "output_type": "stream",
     "text": [
      "Hit samples: 154\n"
     ]
    }
   ],
   "source": [
    "df = pd.DataFrame(er.data_samples, columns = [\n",
    "    \"thief_spawn_x\", \n",
    "    \"thief_spawn_y\",\n",
    "    \"thief_speed\",\n",
    "    \"projectile_spawn_x\",\n",
    "    \"projectile_spawn_y\",\n",
    "    \"projectile_speed\",\n",
    "    \"projectile_angle_degrees\",\n",
    "    \"is_hit\",\n",
    "    \"projectile_intersection_x\",\n",
    "    \"projectile_intersection_y\"\n",
    "])\n",
    "\n",
    "print(f\"Hit samples: {len(df[df['is_hit']==True])}\")\n",
    "df.head(2)\n",
    "er = ExperimentRunner(time_precision=0.1, n_digits=2,\n",
    "     thief_spawn_x=0.0, thief_spawn_y=(0.0, 9.0), thief_speed=1.0,\n",
    "     projectile_spawn_x=9.0, projectile_spawn_y=(5.0, 5.0),\n",
    "     projectile_speed=3.0, projectile_angle_diapason_dgr=(0.0, 360.0)\n",
    ")"
   ]
  },
  {
   "cell_type": "code",
   "execution_count": 8,
   "id": "3cbee0e7-da29-4a8f-bd02-c1e40955b4af",
   "metadata": {},
   "outputs": [
    {
     "data": {
      "text/html": [
       "<div>\n",
       "<style scoped>\n",
       "    .dataframe tbody tr th:only-of-type {\n",
       "        vertical-align: middle;\n",
       "    }\n",
       "\n",
       "    .dataframe tbody tr th {\n",
       "        vertical-align: top;\n",
       "    }\n",
       "\n",
       "    .dataframe thead th {\n",
       "        text-align: right;\n",
       "    }\n",
       "</style>\n",
       "<table border=\"1\" class=\"dataframe\">\n",
       "  <thead>\n",
       "    <tr style=\"text-align: right;\">\n",
       "      <th></th>\n",
       "      <th>thief_spawn_x</th>\n",
       "      <th>thief_spawn_y</th>\n",
       "      <th>thief_speed</th>\n",
       "      <th>projectile_spawn_x</th>\n",
       "      <th>projectile_spawn_y</th>\n",
       "      <th>projectile_speed</th>\n",
       "      <th>projectile_angle_degrees</th>\n",
       "      <th>is_hit</th>\n",
       "      <th>projectile_intersection_x</th>\n",
       "      <th>projectile_intersection_y</th>\n",
       "    </tr>\n",
       "  </thead>\n",
       "  <tbody>\n",
       "    <tr>\n",
       "      <th>225</th>\n",
       "      <td>0.0</td>\n",
       "      <td>6.597231</td>\n",
       "      <td>1.0</td>\n",
       "      <td>9.0</td>\n",
       "      <td>5.0</td>\n",
       "      <td>3.0</td>\n",
       "      <td>161.734078</td>\n",
       "      <td>True</td>\n",
       "      <td>2.30</td>\n",
       "      <td>7.21</td>\n",
       "    </tr>\n",
       "    <tr>\n",
       "      <th>323</th>\n",
       "      <td>0.0</td>\n",
       "      <td>2.428412</td>\n",
       "      <td>1.0</td>\n",
       "      <td>9.0</td>\n",
       "      <td>5.0</td>\n",
       "      <td>3.0</td>\n",
       "      <td>189.297917</td>\n",
       "      <td>True</td>\n",
       "      <td>1.94</td>\n",
       "      <td>3.84</td>\n",
       "    </tr>\n",
       "    <tr>\n",
       "      <th>1214</th>\n",
       "      <td>0.0</td>\n",
       "      <td>7.151851</td>\n",
       "      <td>1.0</td>\n",
       "      <td>9.0</td>\n",
       "      <td>5.0</td>\n",
       "      <td>3.0</td>\n",
       "      <td>158.314673</td>\n",
       "      <td>True</td>\n",
       "      <td>2.37</td>\n",
       "      <td>7.64</td>\n",
       "    </tr>\n",
       "  </tbody>\n",
       "</table>\n",
       "</div>"
      ],
      "text/plain": [
       "      thief_spawn_x  thief_spawn_y  thief_speed  projectile_spawn_x  \\\n",
       "225             0.0       6.597231          1.0                 9.0   \n",
       "323             0.0       2.428412          1.0                 9.0   \n",
       "1214            0.0       7.151851          1.0                 9.0   \n",
       "\n",
       "      projectile_spawn_y  projectile_speed  projectile_angle_degrees  is_hit  \\\n",
       "225                  5.0               3.0                161.734078    True   \n",
       "323                  5.0               3.0                189.297917    True   \n",
       "1214                 5.0               3.0                158.314673    True   \n",
       "\n",
       "      projectile_intersection_x  projectile_intersection_y  \n",
       "225                        2.30                       7.21  \n",
       "323                        1.94                       3.84  \n",
       "1214                       2.37                       7.64  "
      ]
     },
     "execution_count": 8,
     "metadata": {},
     "output_type": "execute_result"
    }
   ],
   "source": [
    "#Filter false experiments\n",
    "df = df[df[\"is_hit\"]==True]\n",
    "df.head(3)"
   ]
  },
  {
   "cell_type": "code",
   "execution_count": 9,
   "id": "11cefee1-9251-49b3-8cbd-313e2afab353",
   "metadata": {},
   "outputs": [
    {
     "data": {
      "text/html": [
       "<div>\n",
       "<style scoped>\n",
       "    .dataframe tbody tr th:only-of-type {\n",
       "        vertical-align: middle;\n",
       "    }\n",
       "\n",
       "    .dataframe tbody tr th {\n",
       "        vertical-align: top;\n",
       "    }\n",
       "\n",
       "    .dataframe thead th {\n",
       "        text-align: right;\n",
       "    }\n",
       "</style>\n",
       "<table border=\"1\" class=\"dataframe\">\n",
       "  <thead>\n",
       "    <tr style=\"text-align: right;\">\n",
       "      <th></th>\n",
       "      <th>thief_spawn_x</th>\n",
       "      <th>thief_spawn_y</th>\n",
       "      <th>thief_speed</th>\n",
       "      <th>projectile_spawn_x</th>\n",
       "      <th>projectile_spawn_y</th>\n",
       "      <th>projectile_speed</th>\n",
       "      <th>projectile_angle_degrees</th>\n",
       "      <th>is_hit</th>\n",
       "      <th>projectile_intersection_x</th>\n",
       "      <th>projectile_intersection_y</th>\n",
       "    </tr>\n",
       "  </thead>\n",
       "  <tbody>\n",
       "  </tbody>\n",
       "</table>\n",
       "</div>"
      ],
      "text/plain": [
       "Empty DataFrame\n",
       "Columns: [thief_spawn_x, thief_spawn_y, thief_speed, projectile_spawn_x, projectile_spawn_y, projectile_speed, projectile_angle_degrees, is_hit, projectile_intersection_x, projectile_intersection_y]\n",
       "Index: []"
      ]
     },
     "execution_count": 9,
     "metadata": {},
     "output_type": "execute_result"
    }
   ],
   "source": [
    "df = df.round({'projectile_angle_degrees': 2})\n",
    "df[df[\"projectile_intersection_x\"].isnull()].head(2)"
   ]
  },
  {
   "cell_type": "code",
   "execution_count": 10,
   "id": "529c7a04-36fc-4cbf-a4a9-fdaccdf63423",
   "metadata": {},
   "outputs": [],
   "source": [
    "from sklearn.model_selection import train_test_split\n",
    "X_train, X_test, y_train, y_test = train_test_split(df[[\n",
    "    \"thief_spawn_x\", \n",
    "    \"thief_spawn_y\",\n",
    "    \"thief_speed\",\n",
    "    \"projectile_spawn_x\",\n",
    "    \"projectile_spawn_y\",\n",
    "    \"projectile_speed\"\n",
    "    #\"projectile_intersection_x\",\n",
    "    #\"projectile_intersection_y\"\n",
    "]], df[\"projectile_angle_degrees\"], test_size=0.33, shuffle=False)"
   ]
  },
  {
   "cell_type": "code",
   "execution_count": 11,
   "id": "13e145e9-5160-4d1d-9979-f4a61ab5010c",
   "metadata": {},
   "outputs": [],
   "source": [
    "# X_train[\"projectile_spawn_y\"].plot.kde(bw_method=0.01, figsize=(12, 8))"
   ]
  },
  {
   "cell_type": "code",
   "execution_count": 12,
   "id": "223ba2ba-cc7f-47d6-b338-f99783123144",
   "metadata": {},
   "outputs": [
    {
     "name": "stdout",
     "output_type": "stream",
     "text": [
      "Hit samples in train: 103\n",
      "Hit samples in test: 51\n"
     ]
    }
   ],
   "source": [
    "print(f\"Hit samples in train: {len(X_train)}\")\n",
    "print(f\"Hit samples in test: {len(X_test)}\")"
   ]
  },
  {
   "cell_type": "markdown",
   "id": "eb689520-d1a4-4c71-81af-59733e346616",
   "metadata": {},
   "source": [
    "# Training"
   ]
  },
  {
   "cell_type": "code",
   "execution_count": 13,
   "id": "d325b50d-9964-4f23-9f27-e2d40ae892b5",
   "metadata": {},
   "outputs": [],
   "source": [
    "from sklearn.linear_model import LinearRegression\n",
    "from sklearn.metrics import mean_squared_error"
   ]
  },
  {
   "cell_type": "code",
   "execution_count": 14,
   "id": "30206d2d-953a-4d49-b3f6-ce7ca5bfb37b",
   "metadata": {},
   "outputs": [],
   "source": [
    "# Manually set params"
   ]
  },
  {
   "cell_type": "code",
   "execution_count": 15,
   "id": "d834b718-ef52-406f-8855-d4f86e2f52eb",
   "metadata": {},
   "outputs": [
    {
     "data": {
      "text/html": [
       "<div>\n",
       "<style scoped>\n",
       "    .dataframe tbody tr th:only-of-type {\n",
       "        vertical-align: middle;\n",
       "    }\n",
       "\n",
       "    .dataframe tbody tr th {\n",
       "        vertical-align: top;\n",
       "    }\n",
       "\n",
       "    .dataframe thead th {\n",
       "        text-align: right;\n",
       "    }\n",
       "</style>\n",
       "<table border=\"1\" class=\"dataframe\">\n",
       "  <thead>\n",
       "    <tr style=\"text-align: right;\">\n",
       "      <th></th>\n",
       "      <th>thief_spawn_y</th>\n",
       "      <th>projectile_intersection_x</th>\n",
       "      <th>projectile_intersection_y</th>\n",
       "      <th>projectile_angle_degrees</th>\n",
       "      <th>thief_speed</th>\n",
       "      <th>is_hit</th>\n",
       "    </tr>\n",
       "  </thead>\n",
       "  <tbody>\n",
       "    <tr>\n",
       "      <th>225</th>\n",
       "      <td>6.597231</td>\n",
       "      <td>2.30</td>\n",
       "      <td>7.21</td>\n",
       "      <td>161.73</td>\n",
       "      <td>1.0</td>\n",
       "      <td>True</td>\n",
       "    </tr>\n",
       "    <tr>\n",
       "      <th>323</th>\n",
       "      <td>2.428412</td>\n",
       "      <td>1.94</td>\n",
       "      <td>3.84</td>\n",
       "      <td>189.30</td>\n",
       "      <td>1.0</td>\n",
       "      <td>True</td>\n",
       "    </tr>\n",
       "    <tr>\n",
       "      <th>1214</th>\n",
       "      <td>7.151851</td>\n",
       "      <td>2.37</td>\n",
       "      <td>7.64</td>\n",
       "      <td>158.31</td>\n",
       "      <td>1.0</td>\n",
       "      <td>True</td>\n",
       "    </tr>\n",
       "    <tr>\n",
       "      <th>1440</th>\n",
       "      <td>5.747437</td>\n",
       "      <td>2.21</td>\n",
       "      <td>6.55</td>\n",
       "      <td>167.16</td>\n",
       "      <td>1.0</td>\n",
       "      <td>True</td>\n",
       "    </tr>\n",
       "    <tr>\n",
       "      <th>1460</th>\n",
       "      <td>5.628087</td>\n",
       "      <td>2.23</td>\n",
       "      <td>6.46</td>\n",
       "      <td>167.82</td>\n",
       "      <td>1.0</td>\n",
       "      <td>True</td>\n",
       "    </tr>\n",
       "    <tr>\n",
       "      <th>...</th>\n",
       "      <td>...</td>\n",
       "      <td>...</td>\n",
       "      <td>...</td>\n",
       "      <td>...</td>\n",
       "      <td>...</td>\n",
       "      <td>...</td>\n",
       "    </tr>\n",
       "    <tr>\n",
       "      <th>95185</th>\n",
       "      <td>3.847450</td>\n",
       "      <td>2.08</td>\n",
       "      <td>5.04</td>\n",
       "      <td>179.67</td>\n",
       "      <td>1.0</td>\n",
       "      <td>True</td>\n",
       "    </tr>\n",
       "    <tr>\n",
       "      <th>95989</th>\n",
       "      <td>4.349180</td>\n",
       "      <td>2.04</td>\n",
       "      <td>5.40</td>\n",
       "      <td>176.67</td>\n",
       "      <td>1.0</td>\n",
       "      <td>True</td>\n",
       "    </tr>\n",
       "    <tr>\n",
       "      <th>98117</th>\n",
       "      <td>4.752548</td>\n",
       "      <td>2.15</td>\n",
       "      <td>5.77</td>\n",
       "      <td>173.62</td>\n",
       "      <td>1.0</td>\n",
       "      <td>True</td>\n",
       "    </tr>\n",
       "    <tr>\n",
       "      <th>98678</th>\n",
       "      <td>8.088050</td>\n",
       "      <td>2.38</td>\n",
       "      <td>8.33</td>\n",
       "      <td>153.31</td>\n",
       "      <td>1.0</td>\n",
       "      <td>True</td>\n",
       "    </tr>\n",
       "    <tr>\n",
       "      <th>99646</th>\n",
       "      <td>1.064996</td>\n",
       "      <td>1.88</td>\n",
       "      <td>2.73</td>\n",
       "      <td>197.72</td>\n",
       "      <td>1.0</td>\n",
       "      <td>True</td>\n",
       "    </tr>\n",
       "  </tbody>\n",
       "</table>\n",
       "<p>154 rows × 6 columns</p>\n",
       "</div>"
      ],
      "text/plain": [
       "       thief_spawn_y  projectile_intersection_x  projectile_intersection_y  \\\n",
       "225         6.597231                       2.30                       7.21   \n",
       "323         2.428412                       1.94                       3.84   \n",
       "1214        7.151851                       2.37                       7.64   \n",
       "1440        5.747437                       2.21                       6.55   \n",
       "1460        5.628087                       2.23                       6.46   \n",
       "...              ...                        ...                        ...   \n",
       "95185       3.847450                       2.08                       5.04   \n",
       "95989       4.349180                       2.04                       5.40   \n",
       "98117       4.752548                       2.15                       5.77   \n",
       "98678       8.088050                       2.38                       8.33   \n",
       "99646       1.064996                       1.88                       2.73   \n",
       "\n",
       "       projectile_angle_degrees  thief_speed  is_hit  \n",
       "225                      161.73          1.0    True  \n",
       "323                      189.30          1.0    True  \n",
       "1214                     158.31          1.0    True  \n",
       "1440                     167.16          1.0    True  \n",
       "1460                     167.82          1.0    True  \n",
       "...                         ...          ...     ...  \n",
       "95185                    179.67          1.0    True  \n",
       "95989                    176.67          1.0    True  \n",
       "98117                    173.62          1.0    True  \n",
       "98678                    153.31          1.0    True  \n",
       "99646                    197.72          1.0    True  \n",
       "\n",
       "[154 rows x 6 columns]"
      ]
     },
     "execution_count": 15,
     "metadata": {},
     "output_type": "execute_result"
    }
   ],
   "source": [
    "df[[\"thief_spawn_y\", \"projectile_intersection_x\", \"projectile_intersection_y\", \"projectile_angle_degrees\", \"thief_speed\", \"is_hit\"]]"
   ]
  },
  {
   "cell_type": "code",
   "execution_count": 16,
   "id": "aa3a8a2f-5067-4b9e-8194-718d582f332f",
   "metadata": {},
   "outputs": [
    {
     "data": {
      "text/plain": [
       "0.9993721061389415"
      ]
     },
     "execution_count": 16,
     "metadata": {},
     "output_type": "execute_result"
    }
   ],
   "source": [
    "from sklearn.metrics import mean_squared_error\n",
    "from joblib import dump, load\n",
    "\n",
    "model_params = {\n",
    "    \"fit_intercept\": True,\n",
    "    \"normalize\": True,\n",
    "    \"positive\": False\n",
    "}\n",
    "\n",
    "reg = LinearRegression(**model_params).fit(X_train, y_train)\n",
    "# reg.score(X_test, y_test)\n",
    "score = mean_squared_error(y_test, reg.predict(X_test), squared=False)\n",
    "dump(reg, 'model.joblib') \n",
    "dump(X_test,'x_test.joblib')\n",
    "dump(y_test,'y_test.joblib')\n",
    "reg.score(X_test, y_test)"
   ]
  },
  {
   "cell_type": "code",
   "execution_count": 17,
   "id": "c4be9346-2bde-4370-b8ff-e3ee9662b144",
   "metadata": {},
   "outputs": [],
   "source": [
    "# Seems like a True/False balance problem, lets add sample weight"
   ]
  },
  {
   "cell_type": "markdown",
   "id": "be8637de-0b56-435d-890d-1345ab81a429",
   "metadata": {},
   "source": [
    "# Plot"
   ]
  },
  {
   "cell_type": "code",
   "execution_count": 18,
   "id": "dbbf504a-6bbd-456e-adf4-e76e54c2a1f6",
   "metadata": {},
   "outputs": [],
   "source": [
    "# plt.scatter(X_test['projectile_intersection_x'], y_test,  color='black')\n",
    "# plt.plot(X_test, reg.predict(X_test), color='blue', linewidth=3)\n",
    "# plt.xticks(())\n",
    "# plt.yticks(())\n",
    "# plt.show()"
   ]
  },
  {
   "cell_type": "markdown",
   "id": "639e2303-1f8f-4a2e-aeb8-77bca75a6f0b",
   "metadata": {},
   "source": [
    "# Boolean Parameter bruteforce"
   ]
  },
  {
   "cell_type": "code",
   "execution_count": 19,
   "id": "b8646a93-b5a5-4469-8769-dbe081a784f3",
   "metadata": {},
   "outputs": [
    {
     "data": {
      "text/plain": [
       "[(True, True, True),\n",
       " (True, True, False),\n",
       " (True, False, True),\n",
       " (True, False, False),\n",
       " (False, True, True),\n",
       " (False, True, False),\n",
       " (False, False, True),\n",
       " (False, False, False)]"
      ]
     },
     "execution_count": 19,
     "metadata": {},
     "output_type": "execute_result"
    }
   ],
   "source": [
    "param_combinations = list(itertools.product([True, False], repeat=3))\n",
    "param_combinations"
   ]
  },
  {
   "cell_type": "code",
   "execution_count": 20,
   "id": "3f239a15-710a-4d39-80ad-b701ba63fd6b",
   "metadata": {},
   "outputs": [
    {
     "name": "stdout",
     "output_type": "stream",
     "text": [
      "Params: {'fit_intercept': True, 'normalize': True, 'positive': True}\n",
      "16.630011613781566 \n",
      "\n",
      "Params: {'fit_intercept': True, 'normalize': True, 'positive': False}\n",
      "0.4109655989163701 \n",
      "\n",
      "Params: {'fit_intercept': True, 'normalize': False, 'positive': True}\n",
      "16.630011613781566 \n",
      "\n",
      "Params: {'fit_intercept': True, 'normalize': False, 'positive': False}\n",
      "0.4109655989163723 \n",
      "\n",
      "Params: {'fit_intercept': False, 'normalize': True, 'positive': True}\n",
      "16.63001161378158 \n",
      "\n",
      "Params: {'fit_intercept': False, 'normalize': True, 'positive': False}\n",
      "0.4109655989163964 \n",
      "\n",
      "Params: {'fit_intercept': False, 'normalize': False, 'positive': True}\n",
      "16.63001161378158 \n",
      "\n",
      "Params: {'fit_intercept': False, 'normalize': False, 'positive': False}\n",
      "0.4109655989163964 \n",
      "\n"
     ]
    }
   ],
   "source": [
    "sample_weight = False\n",
    "for param_values in param_combinations:\n",
    "    keys = [\"fit_intercept\", \"normalize\", \"positive\"]\n",
    "    model_params = dict(zip(keys, param_values))\n",
    "    print(f\"Params: {model_params}\")\n",
    "    if sample_weight:\n",
    "        reg = LinearRegression(**model_params).fit(X_train, y_train, sample_weight=y_train.map({False: 1, True: 100}))\n",
    "    else:\n",
    "        reg = LinearRegression(**model_params).fit(X_train, y_train)\n",
    "        y_pred = reg.predict(X_test)\n",
    "    print(mean_squared_error(y_test, y_pred, squared=False), \"\\n\")"
   ]
  },
  {
   "cell_type": "code",
   "execution_count": 21,
   "id": "4d90ba8f-7769-4cc5-a664-346c6b9203bc",
   "metadata": {},
   "outputs": [
    {
     "data": {
      "text/plain": [
       "<AxesSubplot:ylabel='Density'>"
      ]
     },
     "execution_count": 21,
     "metadata": {},
     "output_type": "execute_result"
    },
    {
     "data": {
      "image/png": "[encoded data removed]",
      "text/plain": [
       "<Figure size 864x576 with 1 Axes>"
      ]
     },
     "metadata": {
      "needs_background": "light"
     },
     "output_type": "display_data"
    }
   ],
   "source": [
    "diffs = []\n",
    "mod = False\n",
    "for y_t_s, y_p_s in zip(y_test, y_pred):\n",
    "    if mod:\n",
    "        diff = abs(y_t_s - y_p_s)\n",
    "        diffs.append(diff)\n",
    "    else:\n",
    "        diff = y_t_s - y_p_s\n",
    "        diffs.append(diff)\n",
    "\n",
    "y_pred_df = pd.DataFrame(diffs)\n",
    "y_pred_df.plot.kde(bw_method=0.1, xticks=range(-15, 10), figsize=(12, 8))"
   ]
  },
  {
   "cell_type": "code",
   "execution_count": 22,
   "id": "9c324958-66b0-411d-9bdd-d66641db8bbd",
   "metadata": {},
   "outputs": [
    {
     "data": {
      "text/plain": [
       "<AxesSubplot:ylabel='Density'>"
      ]
     },
     "execution_count": 22,
     "metadata": {},
     "output_type": "execute_result"
    },
    {
     "data": {
      "image/png": "[encoded data removed]",
      "text/plain": [
       "<Figure size 432x288 with 1 Axes>"
      ]
     },
     "metadata": {
      "needs_background": "light"
     },
     "output_type": "display_data"
    }
   ],
   "source": [
    "diffs = []\n",
    "mod = False\n",
    "for y_t_s, y_p_s in zip(y_test, y_pred):\n",
    "    if mod:\n",
    "        diff = abs(y_t_s - y_p_s)\n",
    "        diffs.append(diff)\n",
    "    else:\n",
    "        diff = y_t_s - y_p_s\n",
    "        diffs.append(diff)\n",
    "\n",
    "y_pred_df = pd.DataFrame(diffs)\n",
    "y_pred_df.plot.kde(bw_method=0.1)"
   ]
  },
  {
   "cell_type": "code",
   "execution_count": 23,
   "id": "ee68c00d-8036-470a-8623-cda7b428891b",
   "metadata": {},
   "outputs": [
    {
     "data": {
      "text/plain": [
       "<AxesSubplot:ylabel='Density'>"
      ]
     },
     "execution_count": 23,
     "metadata": {},
     "output_type": "execute_result"
    },
    {
     "data": {
      "image/png": "[encoded data removed]",
      "text/plain": [
       "<Figure size 432x288 with 1 Axes>"
      ]
     },
     "metadata": {
      "needs_background": "light"
     },
     "output_type": "display_data"
    }
   ],
   "source": [
    "y_pred_df = pd.DataFrame(y_pred)\n",
    "y_pred_df.plot.kde(bw_method=0.1)"
   ]
  },
  {
   "cell_type": "code",
   "execution_count": 24,
   "id": "d022f566-6353-44db-bca7-bb1d4e176230",
   "metadata": {},
   "outputs": [
    {
     "data": {
      "text/plain": [
       "<AxesSubplot:ylabel='Density'>"
      ]
     },
     "execution_count": 24,
     "metadata": {},
     "output_type": "execute_result"
    },
    {
     "data": {
      "image/png": "[encoded data removed]",
      "text/plain": [
       "<Figure size 432x288 with 1 Axes>"
      ]
     },
     "metadata": {
      "needs_background": "light"
     },
     "output_type": "display_data"
    }
   ],
   "source": [
    "y_pred_df = pd.DataFrame(y_pred)\n",
    "y_pred_df.plot.kde(bw_method=0.1)"
   ]
  },
  {
   "cell_type": "markdown",
   "id": "bfecd680-22e5-4bde-a656-a674333e9584",
   "metadata": {},
   "source": [
    "# Boolean Features bruteforce "
   ]
  },
  {
   "cell_type": "code",
   "execution_count": 25,
   "id": "c54db4b1-1667-4659-96b0-7569c051e707",
   "metadata": {},
   "outputs": [],
   "source": [
    "feature_combinations = list(itertools.product([True, False], repeat=6))"
   ]
  },
  {
   "cell_type": "code",
   "execution_count": 26,
   "id": "d911330b-9e6b-41e5-8f14-9482374bdd34",
   "metadata": {},
   "outputs": [
    {
     "name": "stdout",
     "output_type": "stream",
     "text": [
      "Params: {'thief_spawn_x': True, 'thief_spawn_y': True, 'thief_speed': True, 'projectile_spawn_x': True, 'projectile_spawn_y': True, 'projectile_speed': True}\n",
      "0.4109655989163723 \n",
      "\n"
     ]
    }
   ],
   "source": [
    "for f_set in feature_combinations:\n",
    "    i = 0\n",
    "    mixed_df = df\n",
    "    X_train_mixed, X_test_mixed, Y_train_mixed, Y_test_mixed = train_test_split(mixed_df.drop([\"projectile_angle_degrees\", 'is_hit', 'projectile_intersection_x', 'projectile_intersection_y'], axis=1), mixed_df[\"projectile_angle_degrees\"], test_size=0.33, shuffle=False)\n",
    "    keys = [\"thief_spawn_x\", \n",
    "    \"thief_spawn_y\",\n",
    "    \"thief_speed\",\n",
    "    \"projectile_spawn_x\",\n",
    "    \"projectile_spawn_y\",\n",
    "    \"projectile_speed\"\n",
    "]\n",
    "    model_features = dict(zip(keys, f_set))\n",
    "    for key in keys:\n",
    "        if model_features[key] == False:\n",
    "            i+=1\n",
    "            X_train_mixed = X_train_mixed.drop([key], axis=1)\n",
    "            X_test_mixed = X_test_mixed.drop([key], axis=1)\n",
    "    if i == 0:\n",
    "        mixed_reg = LinearRegression().fit(X_train_mixed, Y_train_mixed)\n",
    "        Y_mixed_pred = mixed_reg.predict(X_test_mixed)\n",
    "        mixed_reg_score = mean_squared_error(Y_test_mixed, Y_mixed_pred, squared=False)\n",
    "        if mixed_reg_score < 30:\n",
    "            print(f\"Params: {model_features}\")\n",
    "            print(mixed_reg_score, \"\\n\")"
   ]
  },
  {
   "cell_type": "code",
   "execution_count": 27,
   "id": "da5db538-d6f6-4a54-a726-1f001e896ccc",
   "metadata": {},
   "outputs": [
    {
     "data": {
      "text/plain": [
       "((103,), (103,))"
      ]
     },
     "execution_count": 27,
     "metadata": {},
     "output_type": "execute_result"
    }
   ],
   "source": [
    "y_train.shape, Y_train_mixed.shape"
   ]
  },
  {
   "cell_type": "code",
   "execution_count": 32,
   "id": "e25b9e08-5794-470f-afd4-069b33a37ff5",
   "metadata": {},
   "outputs": [
    {
     "data": {
      "text/plain": [
       "array([153.82073408, 193.07955718])"
      ]
     },
     "execution_count": 32,
     "metadata": {},
     "output_type": "execute_result"
    }
   ],
   "source": [
    "reg.predict(X_test[0:2])"
   ]
  },
  {
   "cell_type": "code",
   "execution_count": 29,
   "id": "73403176-78ba-4638-b679-d01788f8583b",
   "metadata": {},
   "outputs": [
    {
     "data": {
      "text/plain": [
       "1"
      ]
     },
     "execution_count": 29,
     "metadata": {},
     "output_type": "execute_result"
    }
   ],
   "source": [
    "thief_spawn_y=1\n",
    "Param(thief_spawn_y).value"
   ]
  },
  {
   "cell_type": "code",
   "execution_count": 34,
   "id": "587cbc03-3e58-4928-957f-48b7153a440b",
   "metadata": {},
   "outputs": [
    {
     "name": "stdout",
     "output_type": "stream",
     "text": [
      "(1, 6)\n"
     ]
    }
   ],
   "source": [
    "print(X_test[0:1].shape)"
   ]
  },
  {
   "cell_type": "code",
   "execution_count": 31,
   "id": "da41986c-f9ed-4beb-9453-c9c3160ba175",
   "metadata": {},
   "outputs": [
    {
     "name": "stdout",
     "output_type": "stream",
     "text": [
      "65919    154.01\n",
      "67940    193.56\n",
      "68011    176.86\n",
      "72086    185.86\n",
      "73082    179.44\n",
      "73173    196.13\n",
      "73493    168.00\n",
      "73880    153.42\n",
      "74354    154.87\n",
      "74521    149.98\n",
      "75896    150.15\n",
      "75922    148.78\n",
      "76037    198.79\n",
      "76043    148.23\n",
      "77885    163.32\n",
      "77971    189.82\n",
      "78569    180.83\n",
      "78599    197.70\n",
      "78608    192.95\n",
      "79492    174.87\n",
      "80476    169.84\n",
      "80931    178.17\n",
      "81608    150.19\n",
      "82948    151.56\n",
      "83615    158.58\n",
      "83685    176.73\n",
      "83848    158.63\n",
      "85015    170.94\n",
      "86069    152.61\n",
      "86084    151.94\n",
      "86337    193.37\n",
      "86449    159.17\n",
      "86642    173.21\n",
      "87225    153.56\n",
      "87490    195.24\n",
      "87874    184.04\n",
      "88223    176.80\n",
      "88277    161.54\n",
      "88333    152.78\n",
      "89236    171.23\n",
      "89258    201.98\n",
      "90520    172.67\n",
      "90822    191.69\n",
      "91348    153.68\n",
      "93240    163.54\n",
      "95101    178.53\n",
      "95185    179.67\n",
      "95989    176.67\n",
      "98117    173.62\n",
      "98678    153.31\n",
      "99646    197.72\n",
      "Name: projectile_angle_degrees, dtype: float64\n"
     ]
    }
   ],
   "source": [
    "print(y_test)"
   ]
  },
  {
   "cell_type": "code",
   "execution_count": null,
   "id": "c40c292a-e644-4e9e-9d4e-8f9d55f3436f",
   "metadata": {},
   "outputs": [],
   "source": []
  }
 ],
 "metadata": {
  "kernelspec": {
   "display_name": "Python 3",
   "language": "python",
   "name": "python3"
  },
  "language_info": {
   "codemirror_mode": {
    "name": "ipython",
    "version": 3
   },
   "file_extension": ".py",
   "mimetype": "text/x-python",
   "name": "python",
   "nbconvert_exporter": "python",
   "pygments_lexer": "ipython3",
   "version": "3.9.4"
  }
 },
 "nbformat": 4,
 "nbformat_minor": 5
}
